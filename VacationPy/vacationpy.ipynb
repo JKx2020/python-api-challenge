{
 "cells": [
  {
   "cell_type": "markdown",
   "metadata": {},
   "source": [
    "# VacationPy\n",
    "----\n",
    "\n",
    "#### Note\n",
    "* Instructions have been included for each segment. You do not have to follow them exactly, but they are included to help you think through the steps."
   ]
  },
  {
   "cell_type": "code",
   "execution_count": 1,
   "metadata": {},
   "outputs": [],
   "source": [
    "# Dependencies and Setup\n",
    "import matplotlib.pyplot as plt\n",
    "import pandas as pd\n",
    "import numpy as np\n",
    "import requests\n",
    "import gmaps\n",
    "import os\n",
    "from pprint import pprint\n",
    "\n",
    "# Import API key\n",
    "from config import api_key\n"
   ]
  },
  {
   "cell_type": "markdown",
   "metadata": {},
   "source": [
    "### Store Part I results into DataFrame\n",
    "* Load the csv exported in Part I to a DataFrame"
   ]
  },
  {
   "cell_type": "code",
   "execution_count": 2,
   "metadata": {},
   "outputs": [
    {
     "data": {
      "text/html": "<div>\n<style scoped>\n    .dataframe tbody tr th:only-of-type {\n        vertical-align: middle;\n    }\n\n    .dataframe tbody tr th {\n        vertical-align: top;\n    }\n\n    .dataframe thead th {\n        text-align: right;\n    }\n</style>\n<table border=\"1\" class=\"dataframe\">\n  <thead>\n    <tr style=\"text-align: right;\">\n      <th></th>\n      <th>Unnamed: 0</th>\n      <th>City Name</th>\n      <th>City Country</th>\n      <th>City ID</th>\n      <th>City Lat</th>\n      <th>City Long</th>\n      <th>Temps (F)</th>\n      <th>Humidity %</th>\n      <th>Cloudiness %</th>\n      <th>Windspeed (mph)</th>\n      <th>City Datetime</th>\n    </tr>\n  </thead>\n  <tbody>\n    <tr>\n      <td>0</td>\n      <td>0</td>\n      <td>albany</td>\n      <td>US</td>\n      <td>5106841</td>\n      <td>42.60</td>\n      <td>-73.97</td>\n      <td>41.00</td>\n      <td>76</td>\n      <td>90</td>\n      <td>6.93</td>\n      <td>1580068688</td>\n    </tr>\n    <tr>\n      <td>1</td>\n      <td>1</td>\n      <td>piritiba</td>\n      <td>BR</td>\n      <td>3453494</td>\n      <td>-11.73</td>\n      <td>-40.56</td>\n      <td>74.16</td>\n      <td>85</td>\n      <td>100</td>\n      <td>4.70</td>\n      <td>1580068968</td>\n    </tr>\n    <tr>\n      <td>2</td>\n      <td>2</td>\n      <td>port alfred</td>\n      <td>ZA</td>\n      <td>964432</td>\n      <td>-33.59</td>\n      <td>26.89</td>\n      <td>63.00</td>\n      <td>78</td>\n      <td>28</td>\n      <td>7.00</td>\n      <td>1580068969</td>\n    </tr>\n    <tr>\n      <td>3</td>\n      <td>3</td>\n      <td>qaanaaq</td>\n      <td>GL</td>\n      <td>3831208</td>\n      <td>77.48</td>\n      <td>-69.36</td>\n      <td>-10.25</td>\n      <td>56</td>\n      <td>4</td>\n      <td>5.14</td>\n      <td>1580068677</td>\n    </tr>\n    <tr>\n      <td>4</td>\n      <td>4</td>\n      <td>punta arenas</td>\n      <td>CL</td>\n      <td>3874787</td>\n      <td>-53.15</td>\n      <td>-70.92</td>\n      <td>57.20</td>\n      <td>47</td>\n      <td>20</td>\n      <td>32.21</td>\n      <td>1580068971</td>\n    </tr>\n  </tbody>\n</table>\n</div>",
      "text/plain": "   Unnamed: 0     City Name City Country  City ID  City Lat  City Long  \\\n0           0        albany           US  5106841     42.60     -73.97   \n1           1      piritiba           BR  3453494    -11.73     -40.56   \n2           2   port alfred           ZA   964432    -33.59      26.89   \n3           3       qaanaaq           GL  3831208     77.48     -69.36   \n4           4  punta arenas           CL  3874787    -53.15     -70.92   \n\n   Temps (F)  Humidity %  Cloudiness %  Windspeed (mph)  City Datetime  \n0      41.00          76            90             6.93     1580068688  \n1      74.16          85           100             4.70     1580068968  \n2      63.00          78            28             7.00     1580068969  \n3     -10.25          56             4             5.14     1580068677  \n4      57.20          47            20            32.21     1580068971  "
     },
     "execution_count": 2,
     "metadata": {},
     "output_type": "execute_result"
    }
   ],
   "source": [
    "#pull csv from weatherpy\n",
    "path = \"../WeatherPY/city_summary_df.csv\"\n",
    "city_data = pd.read_csv(path)\n",
    "\n",
    "city_data.head()"
   ]
  },
  {
   "cell_type": "markdown",
   "metadata": {},
   "source": [
    "### Humidity Heatmap\n",
    "* Configure gmaps.\n",
    "* Use the Lat and Lng as locations and Humidity as the weight.\n",
    "* Add Heatmap layer to map."
   ]
  },
  {
   "cell_type": "code",
   "execution_count": 3,
   "metadata": {},
   "outputs": [],
   "source": [
    "#configure gmaps\n",
    "gmaps.configure(api_key=api_key)\n"
   ]
  },
  {
   "cell_type": "code",
   "execution_count": 4,
   "metadata": {},
   "outputs": [
    {
     "data": {
      "application/vnd.jupyter.widget-view+json": {
       "model_id": "035772c76d23409fb12132641f239a4a",
       "version_major": 2,
       "version_minor": 0
      },
      "text/plain": "Figure(layout=FigureLayout(height='420px'))"
     },
     "metadata": {},
     "output_type": "display_data"
    }
   ],
   "source": [
    "locations = city_data[[\"City Lat\", \"City Long\"]]\n",
    "weights = city_data['Humidity %']\n",
    "fig = gmaps.figure()\n",
    "fig.add_layer(gmaps.heatmap_layer(locations, weights=weights))\n",
    "fig\n"
   ]
  },
  {
   "cell_type": "markdown",
   "metadata": {},
   "source": [
    "### Create new DataFrame fitting weather criteria\n",
    "* Narrow down the cities to fit weather conditions.\n",
    "* Drop any rows will null values."
   ]
  },
  {
   "cell_type": "code",
   "execution_count": 14,
   "metadata": {},
   "outputs": [
    {
     "data": {
      "text/html": "<div>\n<style scoped>\n    .dataframe tbody tr th:only-of-type {\n        vertical-align: middle;\n    }\n\n    .dataframe tbody tr th {\n        vertical-align: top;\n    }\n\n    .dataframe thead th {\n        text-align: right;\n    }\n</style>\n<table border=\"1\" class=\"dataframe\">\n  <thead>\n    <tr style=\"text-align: right;\">\n      <th></th>\n      <th>Unnamed: 0</th>\n      <th>City Name</th>\n      <th>City Country</th>\n      <th>City ID</th>\n      <th>City Lat</th>\n      <th>City Long</th>\n      <th>Temps (F)</th>\n      <th>Humidity %</th>\n      <th>Cloudiness %</th>\n      <th>Windspeed (mph)</th>\n      <th>City Datetime</th>\n    </tr>\n  </thead>\n  <tbody>\n    <tr>\n      <td>29</td>\n      <td>29</td>\n      <td>kavieng</td>\n      <td>PG</td>\n      <td>2094342</td>\n      <td>-2.57</td>\n      <td>150.80</td>\n      <td>83.16</td>\n      <td>74</td>\n      <td>0</td>\n      <td>5.46</td>\n      <td>1580068986</td>\n    </tr>\n    <tr>\n      <td>67</td>\n      <td>67</td>\n      <td>taoudenni</td>\n      <td>ML</td>\n      <td>2450173</td>\n      <td>22.68</td>\n      <td>-3.98</td>\n      <td>75.69</td>\n      <td>22</td>\n      <td>0</td>\n      <td>9.98</td>\n      <td>1580069013</td>\n    </tr>\n    <tr>\n      <td>128</td>\n      <td>128</td>\n      <td>castro</td>\n      <td>BR</td>\n      <td>3466704</td>\n      <td>-24.79</td>\n      <td>-50.01</td>\n      <td>79.25</td>\n      <td>48</td>\n      <td>0</td>\n      <td>0.81</td>\n      <td>1580069055</td>\n    </tr>\n    <tr>\n      <td>231</td>\n      <td>231</td>\n      <td>chiredzi</td>\n      <td>ZW</td>\n      <td>893485</td>\n      <td>-21.05</td>\n      <td>31.67</td>\n      <td>76.87</td>\n      <td>53</td>\n      <td>0</td>\n      <td>5.88</td>\n      <td>1580069119</td>\n    </tr>\n    <tr>\n      <td>235</td>\n      <td>235</td>\n      <td>iguape</td>\n      <td>BR</td>\n      <td>3461465</td>\n      <td>-24.71</td>\n      <td>-47.56</td>\n      <td>80.49</td>\n      <td>58</td>\n      <td>0</td>\n      <td>5.68</td>\n      <td>1580069121</td>\n    </tr>\n  </tbody>\n</table>\n</div>",
      "text/plain": "     Unnamed: 0  City Name City Country  City ID  City Lat  City Long  \\\n29           29    kavieng           PG  2094342     -2.57     150.80   \n67           67  taoudenni           ML  2450173     22.68      -3.98   \n128         128     castro           BR  3466704    -24.79     -50.01   \n231         231   chiredzi           ZW   893485    -21.05      31.67   \n235         235     iguape           BR  3461465    -24.71     -47.56   \n\n     Temps (F)  Humidity %  Cloudiness %  Windspeed (mph)  City Datetime  \n29       83.16          74             0             5.46     1580068986  \n67       75.69          22             0             9.98     1580069013  \n128      79.25          48             0             0.81     1580069055  \n231      76.87          53             0             5.88     1580069119  \n235      80.49          58             0             5.68     1580069121  "
     },
     "execution_count": 14,
     "metadata": {},
     "output_type": "execute_result"
    }
   ],
   "source": [
    "#Narrow down the DataFrame to find your ideal weather condition. For example:\n",
    "\n",
    "#  * A max temperature lower than 90 degrees but higher than 70.\n",
    "#  * Wind speed less than 10 mph.\n",
    "#  * Zero cloudiness.\n",
    "#  * Drop any rows that don't contain all three conditions. You want to be sure the weather is ideal.\n",
    "\n",
    "city_name = []\n",
    "\n",
    "\n",
    "for index, row in city_data.iterrows():\n",
    "    if row[\"Cloudiness %\"] == 0:\n",
    "        if row [\"Windspeed (mph)\"] < 10:\n",
    "            if row[\"Temps (F)\"] >70 and row[\"Temps (F)\"]<90:\n",
    "                city_name.append(row)\n",
    "\n",
    "city_weather_df = pd.DataFrame(city_name)\n",
    "\n",
    "city_weather_df.head()\n",
    "    "
   ]
  },
  {
   "cell_type": "code",
   "execution_count": null,
   "metadata": {},
   "outputs": [],
   "source": []
  },
  {
   "cell_type": "markdown",
   "metadata": {},
   "source": [
    "### Hotel Map\n",
    "* Store into variable named `hotel_df`.\n",
    "* Add a \"Hotel Name\" column to the DataFrame.\n",
    "* Set parameters to search for hotels with 5000 meters.\n",
    "* Hit the Google Places API for each city's coordinates.\n",
    "* Store the first Hotel result into the DataFrame.\n",
    "* Plot markers on top of the heatmap."
   ]
  },
  {
   "cell_type": "code",
   "execution_count": null,
   "metadata": {},
   "outputs": [],
   "source": []
  },
  {
   "cell_type": "code",
   "execution_count": null,
   "metadata": {},
   "outputs": [],
   "source": []
  },
  {
   "cell_type": "code",
   "execution_count": 0,
   "metadata": {},
   "outputs": [],
   "source": [
    "\n"
   ]
  },
  {
   "cell_type": "code",
   "execution_count": 0,
   "metadata": {},
   "outputs": [],
   "source": [
    "# NOTE: Do not change any of the code in this cell\n",
    "\n",
    "# Using the template add the hotel marks to the heatmap\n",
    "info_box_template = \"\"\"\n",
    "<dl>\n",
    "<dt>Name</dt><dd>{Hotel Name}</dd>\n",
    "<dt>City</dt><dd>{City}</dd>\n",
    "<dt>Country</dt><dd>{Country}</dd>\n",
    "</dl>\n",
    "\"\"\"\n",
    "# Store the DataFrame Row\n",
    "# NOTE: be sure to update with your DataFrame name\n",
    "hotel_info = [info_box_template.format(**row) for index, row in narrowed_city_df.iterrows()]\n",
    "locations = hotel_df[[\"Lat\", \"Lng\"]]"
   ]
  },
  {
   "cell_type": "code",
   "execution_count": 0,
   "metadata": {},
   "outputs": [],
   "source": [
    "# Add marker layer ontop of heat map\n",
    "\n",
    "\n",
    "# Display Map"
   ]
  }
 ],
 "metadata": {
  "kernelspec": {
   "display_name": "Python 3.7.4 64-bit ('kampr': virtualenv)",
   "language": "python",
   "name": "python37464bitkamprvirtualenvf133d9afb2014cbda993919793333ad8"
  },
  "language_info": {
   "codemirror_mode": {
    "name": "ipython",
    "version": 3
   },
   "file_extension": ".py",
   "mimetype": "text/x-python",
   "name": "python",
   "nbconvert_exporter": "python",
   "pygments_lexer": "ipython3",
   "version": "3.7.4-final"
  },
  "latex_envs": {
   "LaTeX_envs_menu_present": true,
   "autoclose": false,
   "autocomplete": true,
   "bibliofile": "biblio.bib",
   "cite_by": "apalike",
   "current_citInitial": 1,
   "eqLabelWithNumbers": true,
   "eqNumInitial": 1,
   "hotkeys": {
    "equation": "Ctrl-E",
    "itemize": "Ctrl-I"
   },
   "labels_anchors": false,
   "latex_user_defs": false,
   "report_style_numbering": false,
   "user_envs_cfg": false
  }
 },
 "nbformat": 4,
 "nbformat_minor": 2
}