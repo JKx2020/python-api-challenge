{
 "nbformat": 4,
 "nbformat_minor": 2,
 "metadata": {
  "language_info": {
   "name": "python",
   "codemirror_mode": {
    "name": "ipython",
    "version": 3
   },
   "version": "3.7.4-final"
  },
  "orig_nbformat": 2,
  "file_extension": ".py",
  "mimetype": "text/x-python",
  "name": "python",
  "npconvert_exporter": "python",
  "pygments_lexer": "ipython3",
  "version": 3,
  "kernelspec": {
   "name": "python37464bitkamprvirtualenvf133d9afb2014cbda993919793333ad8",
   "display_name": "Python 3.7.4 64-bit ('kampr': virtualenv)"
  }
 },
 "cells": [
  {
   "cell_type": "code",
   "execution_count": 751,
   "metadata": {},
   "outputs": [],
   "source": [
    "#In this example, you'll be creating a Python script to visualize the weather of 500+ cities across the world of varying distance from the equator. To accomplish this, you'll be utilizing a [simple Python library](https://pypi.python.org/pypi/citipy), the [OpenWeatherMap API](https://openweathermap.org/api), and a little common sense to create a representative model of weather across world cities."
   ]
  },
  {
   "cell_type": "markdown",
   "execution_count": null,
   "metadata": {},
   "outputs": [],
   "source": [
    "1st Objective - Scatter Plots"
   ]
  },
  {
   "cell_type": "code",
   "execution_count": 752,
   "metadata": {},
   "outputs": [],
   "source": [
    "#Your first objective is to build a series of scatter plots to showcase the following relationships:\n",
    "\n",
    "#* Temperature (F) vs. Latitude\n",
    "#* Humidity (%) vs. Latitude\n",
    "#* Cloudiness (%) vs. Latitude\n",
    "#* Wind Speed (mph) vs. Latitude\n",
    "\n",
    "#After each plot add a sentence or two explaining what the code is and analyzing."
   ]
  },
  {
   "cell_type": "code",
   "execution_count": 753,
   "metadata": {},
   "outputs": [],
   "source": [
    "#Import dependencies\n",
    "from citipy import citipy\n",
    "from pprint import pprint\n",
    "import pandas as pd\n",
    "import matplotlib.pyplot as plt\n",
    "import numpy as np \n",
    "from config import api_key\n",
    "import random\n",
    "import decimal\n",
    "import requests\n",
    "from time import sleep\n",
    "from scipy import stats"
   ]
  },
  {
   "cell_type": "code",
   "execution_count": 754,
   "metadata": {},
   "outputs": [],
   "source": [
    "###########create random list of latitudes and longitude - REPLACE 5 WITH 500 LATER ON\n",
    "latitudes = []\n",
    "longitudes = []\n",
    "\n",
    "for i in range(0,5):\n",
    "    x = float(decimal.Decimal(random.randint(-18000,18000))/100)\n",
    "    latitudes.append(x)\n",
    "\n",
    "lat_df = pd.DataFrame(latitudes, columns = [\"Latitude\"])\n",
    "\n",
    "for y in range(0,5):\n",
    "    y = float(decimal.Decimal(random.randint(-18000,18000))/100)\n",
    "    longitudes.append(y)\n",
    "\n",
    "long_df = pd.DataFrame(longitudes, columns=[\"Longitude\"])"
   ]
  },
  {
   "cell_type": "code",
   "execution_count": 859,
   "metadata": {},
   "outputs": [
    {
     "data": {
      "text/html": "<div>\n<style scoped>\n    .dataframe tbody tr th:only-of-type {\n        vertical-align: middle;\n    }\n\n    .dataframe tbody tr th {\n        vertical-align: top;\n    }\n\n    .dataframe thead th {\n        text-align: right;\n    }\n</style>\n<table border=\"1\" class=\"dataframe\">\n  <thead>\n    <tr style=\"text-align: right;\">\n      <th></th>\n      <th>Latitude</th>\n      <th>Longitude</th>\n    </tr>\n  </thead>\n  <tbody>\n    <tr>\n      <td>0</td>\n      <td>-89.82</td>\n      <td>-94.14</td>\n    </tr>\n    <tr>\n      <td>1</td>\n      <td>43.40</td>\n      <td>142.76</td>\n    </tr>\n    <tr>\n      <td>2</td>\n      <td>-170.51</td>\n      <td>-111.65</td>\n    </tr>\n    <tr>\n      <td>3</td>\n      <td>-148.34</td>\n      <td>-98.75</td>\n    </tr>\n    <tr>\n      <td>4</td>\n      <td>-107.29</td>\n      <td>-118.64</td>\n    </tr>\n  </tbody>\n</table>\n</div>",
      "text/plain": "   Latitude  Longitude\n0    -89.82     -94.14\n1     43.40     142.76\n2   -170.51    -111.65\n3   -148.34     -98.75\n4   -107.29    -118.64"
     },
     "execution_count": 859,
     "metadata": {},
     "output_type": "execute_result"
    }
   ],
   "source": [
    "#combine Latitude and Longitude lists to get coordinates\n",
    "coord_df = pd.concat([lat_df,long_df], axis=1)\n",
    "#coordinates_df = coord_df\n",
    "coord_df.head()"
   ]
  },
  {
   "cell_type": "code",
   "execution_count": 868,
   "metadata": {},
   "outputs": [
    {
     "name": "stdout",
     "output_type": "stream",
     "text": "3\n"
    },
    {
     "data": {
      "text/html": "<div>\n<style scoped>\n    .dataframe tbody tr th:only-of-type {\n        vertical-align: middle;\n    }\n\n    .dataframe tbody tr th {\n        vertical-align: top;\n    }\n\n    .dataframe thead th {\n        text-align: right;\n    }\n</style>\n<table border=\"1\" class=\"dataframe\">\n  <thead>\n    <tr style=\"text-align: right;\">\n      <th></th>\n      <th>City Name</th>\n      <th>Latitude</th>\n      <th>Longitude</th>\n    </tr>\n  </thead>\n  <tbody>\n    <tr>\n      <td>0</td>\n      <td>punta arenas</td>\n      <td>-89.82</td>\n      <td>-94.14</td>\n    </tr>\n    <tr>\n      <td>1</td>\n      <td>furano</td>\n      <td>43.40</td>\n      <td>142.76</td>\n    </tr>\n    <tr>\n      <td>2</td>\n      <td>ushuaia</td>\n      <td>-170.51</td>\n      <td>-111.65</td>\n    </tr>\n  </tbody>\n</table>\n</div>",
      "text/plain": "      City Name  Latitude  Longitude\n0  punta arenas    -89.82     -94.14\n1        furano     43.40     142.76\n2       ushuaia   -170.51    -111.65"
     },
     "execution_count": 868,
     "metadata": {},
     "output_type": "execute_result"
    }
   ],
   "source": [
    "#find city closest to the coordinates created\n",
    "#loop through the latitude and longitude for each set of coords to pull city from citipy\n",
    "cities = []\n",
    "cc = []\n",
    "for index, row in coord_df.iterrows():\n",
    "    lat = row[\"Latitude\"]\n",
    "    long = row[\"Longitude\"]\n",
    "\n",
    "    city = citipy.nearest_city(lat,long)\n",
    "    cities.append(city.city_name)\n",
    "\n",
    "cities_df = pd.DataFrame(cities, columns = [\"City Name\"])\n",
    "\n",
    "cities_df = pd.concat([cities_df,coord_df], axis =1)\n",
    "\n",
    "#find and keep only the unique cities\n",
    "cities_df = cities_df.drop_duplicates([\"City Name\"], keep = 'first')\n",
    "\n",
    "city_count = cities_df[\"City Name\"].count()\n",
    "\n",
    "print(city_count)\n",
    "cities_df.head()\n"
   ]
  },
  {
   "cell_type": "code",
   "execution_count": 757,
   "metadata": {},
   "outputs": [],
   "source": [
    "#set-up URLs\n",
    "units = \"imperial\"\n",
    "base_url = f\"http://api.openweathermap.org/data/2.5/weather?units={units}&appid={api_key}&q=\"\n"
   ]
  },
  {
   "cell_type": "code",
   "execution_count": 852,
   "metadata": {},
   "outputs": [
    {
     "name": "stdout",
     "output_type": "stream",
     "text": "punta arenas, ID:3874787 found! Added to analysis.\nfurano, ID:2128147 found! Added to analysis.\nushuaia, ID:3833367 found! Added to analysis.\nushuaia, ID:3833367 found! Added to analysis.\npunta arenas, ID:3874787 found! Added to analysis.\n"
    }
   ],
   "source": [
    "#pull weather data from open weather\n",
    "temp = []\n",
    "humid = []\n",
    "clouds = []\n",
    "windspeed = []\n",
    "city_lats = []\n",
    "city_long = []\n",
    "city_list = []\n",
    "city_country = []\n",
    "city_datetime = []\n",
    "city_id = []\n",
    "\n",
    "for city in cities_df[\"City Name\"]:\n",
    "    response = requests.get(base_url+city).json()\n",
    "\n",
    "    #append the list\n",
    "\n",
    "    try:\n",
    "        id = response[\"id\"]\n",
    "        print(f\"{city}, ID:{id} found! Added to analysis.\")\n",
    "        \n",
    "        temp.append(response[\"main\"][\"temp_max\"])\n",
    "        humid.append(response[\"main\"][\"humidity\"])\n",
    "        clouds.append(response[\"clouds\"][\"all\"])\n",
    "        windspeed.append(response[\"wind\"][\"speed\"])\n",
    "        city_lats.append(response[\"coord\"][\"lat\"])\n",
    "        city_long.append(response[\"coord\"][\"lon\"])\n",
    "        city_list.append(city)\n",
    "        city_country.append(response[\"sys\"][\"country\"])\n",
    "        city_datetime.append(response[\"timezone\"])\n",
    "        city_id.append(response[\"id\"])\n",
    "\n",
    "    except:\n",
    "        print(f\"{city} not found!\")\n",
    "        pass\n",
    "    #add pause so loop doesn't time out\n",
    "    sleep(0.5)\n"
   ]
  },
  {
   "cell_type": "code",
   "execution_count": 0,
   "metadata": {},
   "outputs": [],
   "source": [
    "temp_df = pd.DataFrame(temp, columns = [\"Temps (F)\"])\n",
    "humid_df = pd.DataFrame(humid, columns = [\"Humidity %\"])\n",
    "clouds_df = pd.DataFrame(clouds, columns = [\"Cloudiness %\"])\n",
    "windspeed_df = pd.DataFrame(windspeed, columns = [\"Windspeed (mph)\"])\n",
    "city_lats_df = pd.DataFrame(city_lats, columns = [\"City Lat\"])\n",
    "city_long_df = pd.DataFrame(city_long, columns = [\"City Long\"])\n",
    "city_list_df = pd.DataFrame(city_list, columns = [\"City Name\"])\n",
    "city_country_df = pd.DataFrame(city_country, columns = [\"City Country\"])\n",
    "city_datetime_df = pd.DataFrame(city_datetime, columns = [\"City Datetime\"])\n",
    "city_id_df = pd.DataFrame(city_id, columns = [\"City ID\"])"
   ]
  },
  {
   "cell_type": "code",
   "execution_count": 0,
   "metadata": {},
   "outputs": [],
   "source": [
    "#* Temperature (%) vs. Latitude\n",
    "plt.scatter(city_lats, temp, marker = \"o\")\n",
    "plt.title(\"Temperature (F) vs. Latitude\")\n",
    "plt.ylabel(\"Temperature (F)\")\n",
    "plt.xlabel(\"Latitude\")\n",
    "plt.grid(True)"
   ]
  },
  {
   "cell_type": "code",
   "execution_count": 0,
   "metadata": {},
   "outputs": [],
   "source": [
    "#In the comparison of Temperature vs Latitude, the code is looking at where the city sits by Latitude on the globe and then looking at it's current temperature. The scatterplot looks at the correlation between distance from the equator to the current temperature."
   ]
  },
  {
   "cell_type": "code",
   "execution_count": 0,
   "metadata": {},
   "outputs": [],
   "source": [
    "#* Humidity (%) vs. Latitude\n",
    "plt.scatter(city_lats, humid, marker = \"o\")\n",
    "plt.title(\"Humidity (%) vs. Latitude\")\n",
    "plt.ylabel(\"Humidity (%)\")\n",
    "plt.xlabel(\"Latitude\")\n",
    "plt.grid(True)\n"
   ]
  },
  {
   "cell_type": "code",
   "execution_count": 0,
   "metadata": {},
   "outputs": [],
   "source": [
    "#In the comparison of Humidty % vs Latitude, the code is looking at where the city sits by Latitude on the globe and then looking at it's current humidity %. The scatterplot is showing how distance from the equator might affect the level of humidity in a certain city."
   ]
  },
  {
   "cell_type": "code",
   "execution_count": 0,
   "metadata": {},
   "outputs": [],
   "source": [
    "#* Cloudiness (%) vs. Latitude\n",
    "plt.scatter(city_lats, clouds, marker = \"o\")\n",
    "plt.title(\"Cloudiness (%) vs. Latitude\")\n",
    "plt.ylabel(\"Cloudiness (%)\")\n",
    "plt.xlabel(\"Latitude\")\n",
    "plt.grid(True)"
   ]
  },
  {
   "cell_type": "code",
   "execution_count": 0,
   "metadata": {},
   "outputs": [],
   "source": [
    "#In the comparison of Cloudiness % vs Latitude, the code is looking at where the city sits by Latitude on the globe and then pulling it's current Cloud coverage %. The scatterplot is showing how distance from the equator might affect the cloudiness of a certain city."
   ]
  },
  {
   "cell_type": "code",
   "execution_count": 0,
   "metadata": {},
   "outputs": [],
   "source": [
    "#* Wind Speed (mph) vs. Latitude\n",
    "plt.scatter(city_lats, windspeed, marker = \"o\")\n",
    "plt.title(\"Windspeed (mph) vs. Latitude\")\n",
    "plt.ylabel(\"Windspeed (mph)\")\n",
    "plt.xlabel(\"Latitude\")\n",
    "plt.grid(True)"
   ]
  },
  {
   "cell_type": "code",
   "execution_count": 0,
   "metadata": {},
   "outputs": [],
   "source": [
    "#In the comparison of Windspeed (mph) vs Latitude, the code is looking at where the city sits by Latitude on the globe and then pulling it's current wind speed. The scatterplot is showing how distance from the equator might affect windiness of a certain city."
   ]
  },
  {
   "cell_type": "markdown",
   "execution_count": null,
   "metadata": {},
   "outputs": [],
   "source": [
    "2nd Objective - Linear Regression"
   ]
  },
  {
   "cell_type": "code",
   "execution_count": 0,
   "metadata": {},
   "outputs": [],
   "source": [
    "#Your next objective is to run linear regression on each relationship, only this time separating them into Northern Hemisphere (greater than or equal to 0 degrees latitude) and Southern Hemisphere (less than 0 degrees latitude):\n",
    "\n",
    "#* Northern Hemisphere - Temperature (F) vs. Latitude\n",
    "#* Southern Hemisphere - Temperature (F) vs. Latitude\n",
    "#* Northern Hemisphere - Humidity (%) vs. Latitude\n",
    "#* Southern Hemisphere - Humidity (%) vs. Latitude\n",
    "#* Northern Hemisphere - Cloudiness (%) vs. Latitude\n",
    "#* Southern Hemisphere - Cloudiness (%) vs. Latitude\n",
    "#* Northern Hemisphere - Wind Speed (mph) vs. Latitude\n",
    "#* Southern Hemisphere - Wind Speed (mph) vs. Latitude\n",
    "\n",
    "#After each pair of plots explain what the linear regression is modelling such as any relationships you notice and any other analysis you may have."
   ]
  },
  {
   "cell_type": "code",
   "execution_count": 0,
   "metadata": {},
   "outputs": [],
   "source": [
    "#combine all city data into one DataFrame\n",
    "city_df = pd.concat([city_list_df, city_country_df, city_id_df, city_lats_df,city_long_df,temp_df,humid_df,clouds_df,windspeed_df, city_datetime_df],axis=1)\n",
    "\n",
    "city_df.to_csv('city_summary_df.csv') \n",
    "\n",
    "city_df.head()"
   ]
  },
  {
   "cell_type": "code",
   "execution_count": 0,
   "metadata": {},
   "outputs": [],
   "source": [
    "#determine northern and southern hemisphere cities\n",
    "n_cities = []\n",
    "s_cities = []\n",
    "\n",
    "for index, row in city_df.iterrows():\n",
    "\n",
    "    if row[\"City Lat\"] > 0:\n",
    "        n_cities.append(row)\n",
    "    else:\n",
    "        s_cities.append(row)\n",
    "\n",
    "n_cities_df = pd.DataFrame(n_cities)\n",
    "s_cities_df = pd.DataFrame(s_cities)\n"
   ]
  },
  {
   "cell_type": "code",
   "execution_count": 0,
   "metadata": {},
   "outputs": [],
   "source": [
    "#Linear regression on Northern Hemisphere - Temperature (F) vs. Latitude\n",
    "vc_slope, vc_int, vc_r, vc_p, vc_std_err = stats.linregress(n_cities_df[\"City Lat\"], n_cities_df[\"Temps (F)\"])\n",
    "\n",
    "vc_fit_ntemp = vc_slope * n_cities_df[\"City Lat\"] + vc_int"
   ]
  },
  {
   "cell_type": "code",
   "execution_count": 0,
   "metadata": {},
   "outputs": [],
   "source": [
    "#* N. Hemisphere Temperature (F) vs. Latitude w linear regression\n",
    "plt.scatter(n_cities_df[\"City Lat\"], n_cities_df[\"Temps (F)\"], marker = \"o\")\n",
    "plt.title(\"N. Hemisphere Temperature (F) vs. Latitude\")\n",
    "plt.ylabel(\"Temperature (F)\")\n",
    "plt.xlabel(\"Latitude\")\n",
    "plt.grid(True)\n",
    "plt.plot(n_cities_df[\"City Lat\"],vc_fit_ntemp,\"--\")"
   ]
  },
  {
   "cell_type": "code",
   "execution_count": 0,
   "metadata": {},
   "outputs": [],
   "source": [
    "#Linear regression on Southern Hemisphere - Temperature (F) vs. Latitude\n",
    "vc_slope, vc_int, vc_r, vc_p, vc_std_err = stats.linregress(s_cities_df[\"City Lat\"], s_cities_df[\"Temps (F)\"])\n",
    "\n",
    "vc_fit_stemp = vc_slope * s_cities_df[\"City Lat\"] + vc_int"
   ]
  },
  {
   "cell_type": "code",
   "execution_count": 0,
   "metadata": {},
   "outputs": [],
   "source": [
    "#* S. Hemisphere Temperature (F) vs. Latitude w linear regression\n",
    "plt.scatter(s_cities_df[\"City Lat\"], s_cities_df[\"Temps (F)\"], marker = \"o\")\n",
    "plt.title(\"S. Hemisphere Temperature (F) vs. Latitude\")\n",
    "plt.ylabel(\"Temperature (F)\")\n",
    "plt.xlabel(\"Latitude\")\n",
    "plt.grid(True)\n",
    "plt.plot(s_cities_df[\"City Lat\"],vc_fit_stemp,\"--\")"
   ]
  },
  {
   "cell_type": "code",
   "execution_count": 0,
   "metadata": {},
   "outputs": [],
   "source": [
    "#Linear regression on Northern Hemisphere - Humidity (%) vs. Latitude\n",
    "vc_slope, vc_int, vc_r, vc_p, vc_std_err = stats.linregress(n_cities_df[\"City Lat\"], n_cities_df[\"Humidity %\"])\n",
    "\n",
    "vc_fit = vc_slope * n_cities_df[\"City Lat\"] + vc_int"
   ]
  },
  {
   "cell_type": "code",
   "execution_count": 0,
   "metadata": {},
   "outputs": [],
   "source": [
    "#* N. Hemisphere Humidity (%) vs. Latitude w linear regression\n",
    "plt.scatter(n_cities_df[\"City Lat\"], n_cities_df[\"Humidity %\"], marker = \"o\")\n",
    "plt.title(\"N. Hemisphere Humidity (%) vs. Latitude\")\n",
    "plt.ylabel(\"Humidity (%)\")\n",
    "plt.xlabel(\"Latitude\")\n",
    "plt.grid(True)\n",
    "plt.plot(n_cities_df[\"City Lat\"],vc_fit,\"--\")"
   ]
  },
  {
   "cell_type": "code",
   "execution_count": 0,
   "metadata": {},
   "outputs": [],
   "source": [
    "#Linear regression on Southern Hemisphere - Humidity (%) vs. Latitude\n",
    "vc_slope, vc_int, vc_r, vc_p, vc_std_err = stats.linregress(s_cities_df[\"City Lat\"], s_cities_df[\"Humidity %\"])\n",
    "\n",
    "vc_fit = vc_slope * s_cities_df[\"City Lat\"] + vc_int"
   ]
  },
  {
   "cell_type": "code",
   "execution_count": 0,
   "metadata": {},
   "outputs": [],
   "source": [
    "#* S. Hemisphere Humidity (%) vs. Latitude w linear regression\n",
    "plt.scatter(s_cities_df[\"City Lat\"], s_cities_df[\"Humidity %\"], marker = \"o\")\n",
    "plt.title(\"S. Hemisphere Humidity (%) vs. Latitude\")\n",
    "plt.ylabel(\"Humidity (%)\")\n",
    "plt.xlabel(\"Latitude\")\n",
    "plt.grid(True)\n",
    "plt.plot(s_cities_df[\"City Lat\"],vc_fit,\"--\")"
   ]
  },
  {
   "cell_type": "code",
   "execution_count": 0,
   "metadata": {},
   "outputs": [],
   "source": [
    "#Linear regression on Northern Hemisphere - Cloudiness (%) vs. Latitude\n",
    "vc_slope, vc_int, vc_r, vc_p, vc_std_err = stats.linregress(n_cities_df[\"City Lat\"], n_cities_df[\"Cloudiness %\"])\n",
    "\n",
    "vc_fit = vc_slope * n_cities_df[\"City Lat\"] + vc_int"
   ]
  },
  {
   "cell_type": "code",
   "execution_count": 0,
   "metadata": {},
   "outputs": [],
   "source": [
    "#* N. Hemisphere Cloudiness (%) vs. Latitude w linear regression\n",
    "plt.scatter(n_cities_df[\"City Lat\"], n_cities_df[\"Cloudiness %\"], marker = \"o\")\n",
    "plt.title(\"N. Hemisphere Cloudiness (%) vs. Latitude\")\n",
    "plt.ylabel(\"Cloudiness (%)\")\n",
    "plt.xlabel(\"Latitude\")\n",
    "plt.grid(True)\n",
    "plt.plot(n_cities_df[\"City Lat\"],vc_fit,\"--\")"
   ]
  },
  {
   "cell_type": "code",
   "execution_count": 0,
   "metadata": {},
   "outputs": [],
   "source": [
    "#Linear regression on Southern Hemisphere - Cloudiness (%) vs. Latitude\n",
    "vc_slope, vc_int, vc_r, vc_p, vc_std_err = stats.linregress(s_cities_df[\"City Lat\"], s_cities_df[\"Cloudiness %\"])\n",
    "\n",
    "vc_fit = vc_slope * s_cities_df[\"City Lat\"] + vc_int"
   ]
  },
  {
   "cell_type": "code",
   "execution_count": 0,
   "metadata": {},
   "outputs": [],
   "source": [
    "#* S. Hemisphere Cloudiness (%) vs. Latitude w linear regression\n",
    "plt.scatter(s_cities_df[\"City Lat\"], s_cities_df[\"Cloudiness %\"], marker = \"o\")\n",
    "plt.title(\"S. Hemisphere Cloudiness (%) vs. Latitude\")\n",
    "plt.ylabel(\"Cloudiness (%)\")\n",
    "plt.xlabel(\"Latitude\")\n",
    "plt.grid(True)\n",
    "plt.plot(s_cities_df[\"City Lat\"],vc_fit,\"--\")"
   ]
  },
  {
   "cell_type": "code",
   "execution_count": 0,
   "metadata": {},
   "outputs": [],
   "source": [
    "#Linear regression on Northern Hemisphere - Wind Speed (mph) vs. Latitude\n",
    "vc_slope, vc_int, vc_r, vc_p, vc_std_err = stats.linregress(n_cities_df[\"City Lat\"], n_cities_df[\"Windspeed (mph)\"])\n",
    "\n",
    "vc_fit = vc_slope * n_cities_df[\"City Lat\"] + vc_int"
   ]
  },
  {
   "cell_type": "code",
   "execution_count": 0,
   "metadata": {},
   "outputs": [],
   "source": [
    "#* N. Hemisphere Windspeed (mph) vs. Latitude w linear regression\n",
    "plt.scatter(n_cities_df[\"City Lat\"], n_cities_df[\"Windspeed (mph)\"], marker = \"o\")\n",
    "plt.title(\"N. Hemisphere Windspeed (mph) vs. Latitude\")\n",
    "plt.ylabel(\"Windspeed (mph)\")\n",
    "plt.xlabel(\"Latitude\")\n",
    "plt.grid(True)\n",
    "plt.plot(n_cities_df[\"City Lat\"],vc_fit,\"--\")"
   ]
  },
  {
   "cell_type": "code",
   "execution_count": 0,
   "metadata": {},
   "outputs": [],
   "source": [
    "#Linear regression on Southern Hemisphere - Wind Speed (mph) vs. Latitude\n",
    "vc_slope, vc_int, vc_r, vc_p, vc_std_err = stats.linregress(s_cities_df[\"City Lat\"], s_cities_df[\"Windspeed (mph)\"])\n",
    "\n",
    "vc_fit = vc_slope * s_cities_df[\"City Lat\"] + vc_int"
   ]
  },
  {
   "cell_type": "code",
   "execution_count": 0,
   "metadata": {},
   "outputs": [],
   "source": [
    "#* S. Hemisphere Windspeed (mph) vs. Latitude w linear regression\n",
    "plt.scatter(s_cities_df[\"City Lat\"], s_cities_df[\"Windspeed (mph)\"], marker = \"o\")\n",
    "plt.title(\"S. Hemisphere Windspeed (mph) vs. Latitude\")\n",
    "plt.ylabel(\"Windspeed (mph)\")\n",
    "plt.xlabel(\"Latitude\")\n",
    "plt.grid(True)\n",
    "plt.plot(s_cities_df[\"City Lat\"],vc_fit,\"--\")"
   ]
  },
  {
   "cell_type": "code",
   "execution_count": 0,
   "metadata": {},
   "outputs": [],
   "source": [
    "#Your final notebook must:\n",
    "\n",
    "#* Randomly select **at least** 500 unique (non-repeat) cities based on latitude and longitude.\n",
    "#* Perform a weather check on each of the cities using a series of successive API calls.\n",
    "#* Include a print log of each city as it's being processed with the city number and city name.\n",
    "#* Save a CSV of all retrieved data and a PNG image for each scatter plot.\n"
   ]
  }
 ]
}