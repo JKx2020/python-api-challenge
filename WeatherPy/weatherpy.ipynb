{
 "nbformat": 4,
 "nbformat_minor": 2,
 "metadata": {
  "language_info": {
   "name": "python",
   "codemirror_mode": {
    "name": "ipython",
    "version": 3
   },
   "version": "3.7.4-final"
  },
  "orig_nbformat": 2,
  "file_extension": ".py",
  "mimetype": "text/x-python",
  "name": "python",
  "npconvert_exporter": "python",
  "pygments_lexer": "ipython3",
  "version": 3,
  "kernelspec": {
   "name": "python37464bitkamprvirtualenvf133d9afb2014cbda993919793333ad8",
   "display_name": "Python 3.7.4 64-bit ('kampr': virtualenv)"
  }
 },
 "cells": [
  {
   "cell_type": "code",
   "execution_count": 1,
   "metadata": {},
   "outputs": [],
   "source": [
    "#In this example, you'll be creating a Python script to visualize the weather of 500+ cities across the world of varying distance from the equator. To accomplish this, you'll be utilizing a [simple Python library](https://pypi.python.org/pypi/citipy), the [OpenWeatherMap API](https://openweathermap.org/api), and a little common sense to create a representative model of weather across world cities."
   ]
  },
  {
   "cell_type": "markdown",
   "execution_count": null,
   "metadata": {},
   "outputs": [],
   "source": [
    "1st Objective - Scatter Plots"
   ]
  },
  {
   "cell_type": "code",
   "execution_count": 5,
   "metadata": {},
   "outputs": [],
   "source": [
    "#Your first objective is to build a series of scatter plots to showcase the following relationships:\n",
    "\n",
    "#* Temperature (F) vs. Latitude\n",
    "#* Humidity (%) vs. Latitude\n",
    "#* Cloudiness (%) vs. Latitude\n",
    "#* Wind Speed (mph) vs. Latitude\n",
    "\n",
    "#After each plot add a sentence or two explaining what the code is and analyzing."
   ]
  },
  {
   "cell_type": "code",
   "execution_count": 43,
   "metadata": {},
   "outputs": [],
   "source": [
    "#Import dependencies\n",
    "from citipy import citipy\n",
    "from pprint import pprint\n",
    "import pandas as pd\n",
    "import matplotlib.pyplot as plt\n",
    "import numpy as np \n",
    "from config import api_key\n",
    "import random\n",
    "import decimal"
   ]
  },
  {
   "cell_type": "code",
   "execution_count": 44,
   "metadata": {},
   "outputs": [],
   "source": [
    "#set-up URLs\n",
    "base_weather_url = \"api.openweathermap.org/data/2.5/find?&units=imperial\"\n",
    "units = \"imperial\"\n"
   ]
  },
  {
   "cell_type": "code",
   "execution_count": 73,
   "metadata": {},
   "outputs": [],
   "source": [
    "###########create random list of latitudes and longitude - REPLACE 5 WITH 500 LATER ON\n",
    "latitudes = []\n",
    "longitudes = []\n",
    "\n",
    "for i in range(0,5):\n",
    "    x = float(decimal.Decimal(random.randint(100,18000))/100)\n",
    "    latitudes.append(x)\n",
    "\n",
    "lat_df = pd.DataFrame(latitudes, columns = [\"Latitude\"])\n",
    "\n",
    "for y in range(0,5):\n",
    "    y = float(decimal.Decimal(random.randint(100,18000))/100)\n",
    "    longitudes.append(y)\n",
    "\n",
    "long_df = pd.DataFrame(longitudes, columns=[\"Longitude\"])"
   ]
  },
  {
   "cell_type": "code",
   "execution_count": null,
   "metadata": {},
   "outputs": [],
   "source": []
  },
  {
   "cell_type": "code",
   "execution_count": 75,
   "metadata": {},
   "outputs": [
    {
     "data": {
      "text/html": "<div>\n<style scoped>\n    .dataframe tbody tr th:only-of-type {\n        vertical-align: middle;\n    }\n\n    .dataframe tbody tr th {\n        vertical-align: top;\n    }\n\n    .dataframe thead th {\n        text-align: right;\n    }\n</style>\n<table border=\"1\" class=\"dataframe\">\n  <thead>\n    <tr style=\"text-align: right;\">\n      <th></th>\n      <th>Latitude</th>\n      <th>Longitude</th>\n    </tr>\n  </thead>\n  <tbody>\n    <tr>\n      <td>0</td>\n      <td>10.68</td>\n      <td>136.97</td>\n    </tr>\n    <tr>\n      <td>1</td>\n      <td>156.82</td>\n      <td>107.08</td>\n    </tr>\n    <tr>\n      <td>2</td>\n      <td>5.76</td>\n      <td>16.23</td>\n    </tr>\n    <tr>\n      <td>3</td>\n      <td>96.53</td>\n      <td>131.51</td>\n    </tr>\n    <tr>\n      <td>4</td>\n      <td>41.16</td>\n      <td>11.72</td>\n    </tr>\n  </tbody>\n</table>\n</div>",
      "text/plain": "   Latitude  Longitude\n0     10.68     136.97\n1    156.82     107.08\n2      5.76      16.23\n3     96.53     131.51\n4     41.16      11.72"
     },
     "execution_count": 75,
     "metadata": {},
     "output_type": "execute_result"
    }
   ],
   "source": [
    "#combine Latitude and Longitude lists to get coordinates\n",
    "headers = [\"Latitude\",\"Longitude\"]\n",
    "coord_df = pd.concat([lat_df,long_df], axis=1)\n",
    "\n",
    "coord_df.head()"
   ]
  },
  {
   "cell_type": "markdown",
   "execution_count": null,
   "metadata": {},
   "outputs": [],
   "source": [
    "2nd Objective - Linear Regression"
   ]
  },
  {
   "cell_type": "code",
   "execution_count": 3,
   "metadata": {},
   "outputs": [],
   "source": [
    "#Your next objective is to run linear regression on each relationship, only this time separating them into Northern Hemisphere (greater than or equal to 0 degrees latitude) and Southern Hemisphere (less than 0 degrees latitude):\n",
    "\n",
    "#* Northern Hemisphere - Temperature (F) vs. Latitude\n",
    "#* Southern Hemisphere - Temperature (F) vs. Latitude\n",
    "#* Northern Hemisphere - Humidity (%) vs. Latitude\n",
    "#* Southern Hemisphere - Humidity (%) vs. Latitude\n",
    "#* Northern Hemisphere - Cloudiness (%) vs. Latitude\n",
    "#* Southern Hemisphere - Cloudiness (%) vs. Latitude\n",
    "#* Northern Hemisphere - Wind Speed (mph) vs. Latitude\n",
    "#* Southern Hemisphere - Wind Speed (mph) vs. Latitude\n",
    "\n",
    "#After each pair of plots explain what the linear regression is modelling such as any relationships you notice and any other analysis you may have."
   ]
  },
  {
   "cell_type": "code",
   "execution_count": null,
   "metadata": {},
   "outputs": [],
   "source": [
    "#Your final notebook must:\n",
    "\n",
    "#* Randomly select **at least** 500 unique (non-repeat) cities based on latitude and longitude.\n",
    "#* Perform a weather check on each of the cities using a series of successive API calls.\n",
    "#* Include a print log of each city as it's being processed with the city number and city name.\n",
    "#* Save a CSV of all retrieved data and a PNG image for each scatter plot.\n"
   ]
  }
 ]
}