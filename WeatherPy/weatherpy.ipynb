{
 "nbformat": 4,
 "nbformat_minor": 2,
 "metadata": {
  "language_info": {
   "name": "python",
   "codemirror_mode": {
    "name": "ipython",
    "version": 3
   },
   "version": "3.7.4-final"
  },
  "orig_nbformat": 2,
  "file_extension": ".py",
  "mimetype": "text/x-python",
  "name": "python",
  "npconvert_exporter": "python",
  "pygments_lexer": "ipython3",
  "version": 3,
  "kernelspec": {
   "name": "python37464bitkamprvirtualenvf133d9afb2014cbda993919793333ad8",
   "display_name": "Python 3.7.4 64-bit ('kampr': virtualenv)"
  }
 },
 "cells": [
  {
   "cell_type": "code",
   "execution_count": 198,
   "metadata": {},
   "outputs": [],
   "source": [
    "#In this example, you'll be creating a Python script to visualize the weather of 500+ cities across the world of varying distance from the equator. To accomplish this, you'll be utilizing a [simple Python library](https://pypi.python.org/pypi/citipy), the [OpenWeatherMap API](https://openweathermap.org/api), and a little common sense to create a representative model of weather across world cities."
   ]
  },
  {
   "cell_type": "markdown",
   "execution_count": null,
   "metadata": {},
   "outputs": [],
   "source": [
    "1st Objective - Scatter Plots"
   ]
  },
  {
   "cell_type": "code",
   "execution_count": 199,
   "metadata": {},
   "outputs": [],
   "source": [
    "#Your first objective is to build a series of scatter plots to showcase the following relationships:\n",
    "\n",
    "#* Temperature (F) vs. Latitude\n",
    "#* Humidity (%) vs. Latitude\n",
    "#* Cloudiness (%) vs. Latitude\n",
    "#* Wind Speed (mph) vs. Latitude\n",
    "\n",
    "#After each plot add a sentence or two explaining what the code is and analyzing."
   ]
  },
  {
   "cell_type": "code",
   "execution_count": 200,
   "metadata": {},
   "outputs": [],
   "source": [
    "#Import dependencies\n",
    "from citipy import citipy\n",
    "from pprint import pprint\n",
    "import pandas as pd\n",
    "import matplotlib.pyplot as plt\n",
    "import numpy as np \n",
    "from config import api_key\n",
    "import random\n",
    "import decimal\n",
    "import requests\n",
    "from time import sleep"
   ]
  },
  {
   "cell_type": "code",
   "execution_count": 201,
   "metadata": {},
   "outputs": [],
   "source": [
    "###########create random list of latitudes and longitude - REPLACE 5 WITH 500 LATER ON\n",
    "latitudes = []\n",
    "longitudes = []\n",
    "\n",
    "for i in range(0,5):\n",
    "    x = float(decimal.Decimal(random.randint(-18000,18000))/100)\n",
    "    latitudes.append(x)\n",
    "\n",
    "lat_df = pd.DataFrame(latitudes, columns = [\"Latitude\"])\n",
    "\n",
    "for y in range(0,5):\n",
    "    y = float(decimal.Decimal(random.randint(-18000,18000))/100)\n",
    "    longitudes.append(y)\n",
    "\n",
    "long_df = pd.DataFrame(longitudes, columns=[\"Longitude\"])"
   ]
  },
  {
   "cell_type": "code",
   "execution_count": 202,
   "metadata": {},
   "outputs": [
    {
     "data": {
      "text/html": "<div>\n<style scoped>\n    .dataframe tbody tr th:only-of-type {\n        vertical-align: middle;\n    }\n\n    .dataframe tbody tr th {\n        vertical-align: top;\n    }\n\n    .dataframe thead th {\n        text-align: right;\n    }\n</style>\n<table border=\"1\" class=\"dataframe\">\n  <thead>\n    <tr style=\"text-align: right;\">\n      <th></th>\n      <th>Latitude</th>\n      <th>Longitude</th>\n    </tr>\n  </thead>\n  <tbody>\n    <tr>\n      <td>0</td>\n      <td>-142.17</td>\n      <td>-79.39</td>\n    </tr>\n    <tr>\n      <td>1</td>\n      <td>139.72</td>\n      <td>17.96</td>\n    </tr>\n    <tr>\n      <td>2</td>\n      <td>-94.73</td>\n      <td>87.75</td>\n    </tr>\n    <tr>\n      <td>3</td>\n      <td>165.70</td>\n      <td>-151.81</td>\n    </tr>\n    <tr>\n      <td>4</td>\n      <td>109.57</td>\n      <td>43.93</td>\n    </tr>\n  </tbody>\n</table>\n</div>",
      "text/plain": "   Latitude  Longitude\n0   -142.17     -79.39\n1    139.72      17.96\n2    -94.73      87.75\n3    165.70    -151.81\n4    109.57      43.93"
     },
     "execution_count": 202,
     "metadata": {},
     "output_type": "execute_result"
    }
   ],
   "source": [
    "#combine Latitude and Longitude lists to get coordinates\n",
    "coord_df = pd.concat([lat_df,long_df], axis=1)\n",
    "#coordinates_df = coord_df\n",
    "coord_df.head()"
   ]
  },
  {
   "cell_type": "code",
   "execution_count": 228,
   "metadata": {},
   "outputs": [
    {
     "data": {
      "text/html": "<div>\n<style scoped>\n    .dataframe tbody tr th:only-of-type {\n        vertical-align: middle;\n    }\n\n    .dataframe tbody tr th {\n        vertical-align: top;\n    }\n\n    .dataframe thead th {\n        text-align: right;\n    }\n</style>\n<table border=\"1\" class=\"dataframe\">\n  <thead>\n    <tr style=\"text-align: right;\">\n      <th></th>\n      <th>City Name</th>\n      <th>Latitude</th>\n      <th>Longitude</th>\n    </tr>\n  </thead>\n  <tbody>\n    <tr>\n      <td>0</td>\n      <td>ushuaia</td>\n      <td>-142.17</td>\n      <td>-79.39</td>\n    </tr>\n    <tr>\n      <td>1</td>\n      <td>longyearbyen</td>\n      <td>139.72</td>\n      <td>17.96</td>\n    </tr>\n    <tr>\n      <td>2</td>\n      <td>albany</td>\n      <td>-94.73</td>\n      <td>87.75</td>\n    </tr>\n    <tr>\n      <td>3</td>\n      <td>barrow</td>\n      <td>165.70</td>\n      <td>-151.81</td>\n    </tr>\n    <tr>\n      <td>4</td>\n      <td>belushya guba</td>\n      <td>109.57</td>\n      <td>43.93</td>\n    </tr>\n  </tbody>\n</table>\n</div>",
      "text/plain": "       City Name  Latitude  Longitude\n0        ushuaia   -142.17     -79.39\n1   longyearbyen    139.72      17.96\n2         albany    -94.73      87.75\n3         barrow    165.70    -151.81\n4  belushya guba    109.57      43.93"
     },
     "execution_count": 228,
     "metadata": {},
     "output_type": "execute_result"
    }
   ],
   "source": [
    "#find city closest to the coordinates created\n",
    "#loop through the latitude and longitude for each set of coords to pull city from citipy\n",
    "cities = []\n",
    "cc = []\n",
    "for index, row in coord_df.iterrows():\n",
    "    lat = row[\"Latitude\"]\n",
    "    long = row[\"Longitude\"]\n",
    "\n",
    "    city = citipy.nearest_city(lat,long)\n",
    "    cities.append(city.city_name)\n",
    "\n",
    "cities_df = pd.DataFrame(cities, columns = [\"City Name\"])\n",
    "\n",
    "cities_df = pd.concat([cities_df,coord_df], axis =1)\n",
    "\n",
    "cities_df.head()"
   ]
  },
  {
   "cell_type": "code",
   "execution_count": 204,
   "metadata": {},
   "outputs": [],
   "source": [
    "#set-up URLs\n",
    "units = \"imperial\"\n",
    "base_url = f\"http://api.openweathermap.org/data/2.5/weather?units={units}&appid={api_key}&q=\"\n"
   ]
  },
  {
   "cell_type": "code",
   "execution_count": 229,
   "metadata": {},
   "outputs": [
    {
     "name": "stdout",
     "output_type": "stream",
     "text": "{'base': 'model',\n 'clouds': {'all': 100},\n 'cod': 200,\n 'coord': {'lat': -54.8, 'lon': -68.3},\n 'dt': 1579984818,\n 'id': 3833367,\n 'main': {'feels_like': 35.62,\n          'grnd_level': 943,\n          'humidity': 57,\n          'pressure': 991,\n          'sea_level': 991,\n          'temp': 47.46,\n          'temp_max': 47.46,\n          'temp_min': 47.46},\n 'name': 'Ushuaia',\n 'rain': {'3h': 0.44},\n 'sys': {'country': 'AR', 'sunrise': 1579941661, 'sunset': 1579999771},\n 'timezone': -10800,\n 'weather': [{'description': 'light rain',\n              'icon': '10d',\n              'id': 500,\n              'main': 'Rain'}],\n 'wind': {'deg': 265, 'speed': 14.94}}\n{'base': 'model',\n 'clouds': {'all': 0},\n 'cod': 200,\n 'coord': {'lat': 78.22, 'lon': 15.64},\n 'dt': 1579985354,\n 'id': 2729907,\n 'main': {'feels_like': -19.97,\n          'grnd_level': 975,\n          'humidity': 58,\n          'pressure': 1018,\n          'sea_level': 1018,\n          'temp': -11.52,\n          'temp_max': -11.52,\n          'temp_min': -11.52},\n 'name': 'Longyearbyen',\n 'sys': {'country': 'SJ', 'sunrise': 0, 'sunset': 0},\n 'timezone': 3600,\n 'weather': [{'description': 'clear sky',\n              'icon': '01n',\n              'id': 800,\n              'main': 'Clear'}],\n 'wind': {'deg': 77, 'speed': 2.73}}\n{'base': 'stations',\n 'clouds': {'all': 90},\n 'cod': 200,\n 'coord': {'lat': 42.6, 'lon': -73.97},\n 'dt': 1579985408,\n 'id': 5106841,\n 'main': {'feels_like': 32.07,\n          'humidity': 93,\n          'pressure': 1012,\n          'temp': 37.18,\n          'temp_max': 41,\n          'temp_min': 33.01},\n 'name': 'Albany',\n 'rain': {'1h': 2.54},\n 'sys': {'country': 'US',\n         'id': 5782,\n         'sunrise': 1579954618,\n         'sunset': 1579989537,\n         'type': 1},\n 'timezone': -18000,\n 'visibility': 4828,\n 'weather': [{'description': 'moderate rain',\n              'icon': '10d',\n              'id': 501,\n              'main': 'Rain'},\n             {'description': 'mist', 'icon': '50d', 'id': 701, 'main': 'Mist'}],\n 'wind': {'deg': 252, 'speed': 3.65}}\n{'base': 'stations',\n 'clouds': {'all': 1},\n 'cod': 200,\n 'coord': {'lat': 71.29, 'lon': -156.79},\n 'dt': 1579985335,\n 'id': 5880054,\n 'main': {'feels_like': -33.52,\n          'humidity': 74,\n          'pressure': 1025,\n          'temp': -22,\n          'temp_max': -22,\n          'temp_min': -22},\n 'name': 'Barrow',\n 'sys': {'country': 'US',\n         'id': 7649,\n         'sunrise': 1579988475,\n         'sunset': 1579995440,\n         'type': 1},\n 'timezone': -32400,\n 'visibility': 16093,\n 'weather': [{'description': 'clear sky',\n              'icon': '01n',\n              'id': 800,\n              'main': 'Clear'}],\n 'wind': {'deg': 240, 'speed': 8.05}}\n{'cod': '404', 'message': 'city not found'}\nbelushya guba not found!\n"
    }
   ],
   "source": [
    "#pull weather data from open weather\n",
    "temp = []\n",
    "humid = []\n",
    "clouds = []\n",
    "windspeed = []\n",
    "city_lats = []\n",
    "city_long = []\n",
    "\n",
    "for city in cities_df[\"City Name\"]:\n",
    "    response = requests.get(base_url+city).json()\n",
    "    pprint(response)\n",
    "    #append the list\n",
    "\n",
    "    try:\n",
    "        temp.append(response[\"main\"][\"temp\"])\n",
    "        humid.append(response[\"main\"][\"humidity\"])\n",
    "        clouds.append(response[\"clouds\"][\"all\"])\n",
    "        windspeed.append(response[\"wind\"][\"speed\"])\n",
    "        city_lats.append(response[\"coord\"][\"lat\"])\n",
    "        city_long.append(response[\"coord\"][\"lon\"])\n",
    "\n",
    "    except:\n",
    "        print(f\"{city} not found!\")\n",
    "        pass\n",
    "    #add pause so loop doesn't time out\n",
    "    sleep(0.5)\n"
   ]
  },
  {
   "cell_type": "code",
   "execution_count": 225,
   "metadata": {},
   "outputs": [
    {
     "ename": "ValueError",
     "evalue": "x and y must be the same size",
     "output_type": "error",
     "traceback": [
      "\u001b[1;31m---------------------------------------------------------------------------\u001b[0m",
      "\u001b[1;31mValueError\u001b[0m                                Traceback (most recent call last)",
      "\u001b[1;32m<ipython-input-225-35218328af5b>\u001b[0m in \u001b[0;36m<module>\u001b[1;34m\u001b[0m\n\u001b[0;32m      1\u001b[0m \u001b[1;31m#build temp (f) vs latitude scatterplot\u001b[0m\u001b[1;33m\u001b[0m\u001b[1;33m\u001b[0m\u001b[1;33m\u001b[0m\u001b[0m\n\u001b[1;32m----> 2\u001b[1;33m \u001b[0mplt\u001b[0m\u001b[1;33m.\u001b[0m\u001b[0mscatter\u001b[0m\u001b[1;33m(\u001b[0m\u001b[0mtemp\u001b[0m\u001b[1;33m,\u001b[0m\u001b[0mcoord_df\u001b[0m\u001b[1;33m[\u001b[0m\u001b[1;34m\"Latitude\"\u001b[0m\u001b[1;33m]\u001b[0m\u001b[1;33m,\u001b[0m \u001b[0mmarker\u001b[0m \u001b[1;33m=\u001b[0m \u001b[1;34m\"o\"\u001b[0m\u001b[1;33m)\u001b[0m\u001b[1;33m\u001b[0m\u001b[1;33m\u001b[0m\u001b[0m\n\u001b[0m\u001b[0;32m      3\u001b[0m \u001b[0mplt\u001b[0m\u001b[1;33m.\u001b[0m\u001b[0mtitle\u001b[0m\u001b[1;33m(\u001b[0m\u001b[1;34m\"Temperature (F) vs. Latitude\"\u001b[0m\u001b[1;33m)\u001b[0m\u001b[1;33m\u001b[0m\u001b[1;33m\u001b[0m\u001b[0m\n\u001b[0;32m      4\u001b[0m \u001b[0mplt\u001b[0m\u001b[1;33m.\u001b[0m\u001b[0mxlabel\u001b[0m\u001b[1;33m(\u001b[0m\u001b[1;34m\"Temperature (F)\"\u001b[0m\u001b[1;33m)\u001b[0m\u001b[1;33m\u001b[0m\u001b[1;33m\u001b[0m\u001b[0m\n\u001b[0;32m      5\u001b[0m \u001b[0mplt\u001b[0m\u001b[1;33m.\u001b[0m\u001b[0mylabel\u001b[0m\u001b[1;33m(\u001b[0m\u001b[1;34m\"Latitude\"\u001b[0m\u001b[1;33m)\u001b[0m\u001b[1;33m\u001b[0m\u001b[1;33m\u001b[0m\u001b[0m\n",
      "\u001b[1;32m~\\Anaconda3\\lib\\site-packages\\matplotlib\\pyplot.py\u001b[0m in \u001b[0;36mscatter\u001b[1;34m(x, y, s, c, marker, cmap, norm, vmin, vmax, alpha, linewidths, verts, edgecolors, plotnonfinite, data, **kwargs)\u001b[0m\n\u001b[0;32m   2845\u001b[0m         \u001b[0mverts\u001b[0m\u001b[1;33m=\u001b[0m\u001b[0mverts\u001b[0m\u001b[1;33m,\u001b[0m \u001b[0medgecolors\u001b[0m\u001b[1;33m=\u001b[0m\u001b[0medgecolors\u001b[0m\u001b[1;33m,\u001b[0m\u001b[1;33m\u001b[0m\u001b[1;33m\u001b[0m\u001b[0m\n\u001b[0;32m   2846\u001b[0m         plotnonfinite=plotnonfinite, **({\"data\": data} if data is not\n\u001b[1;32m-> 2847\u001b[1;33m         None else {}), **kwargs)\n\u001b[0m\u001b[0;32m   2848\u001b[0m     \u001b[0msci\u001b[0m\u001b[1;33m(\u001b[0m\u001b[0m__ret\u001b[0m\u001b[1;33m)\u001b[0m\u001b[1;33m\u001b[0m\u001b[1;33m\u001b[0m\u001b[0m\n\u001b[0;32m   2849\u001b[0m     \u001b[1;32mreturn\u001b[0m \u001b[0m__ret\u001b[0m\u001b[1;33m\u001b[0m\u001b[1;33m\u001b[0m\u001b[0m\n",
      "\u001b[1;32m~\\Anaconda3\\lib\\site-packages\\matplotlib\\__init__.py\u001b[0m in \u001b[0;36minner\u001b[1;34m(ax, data, *args, **kwargs)\u001b[0m\n\u001b[0;32m   1599\u001b[0m     \u001b[1;32mdef\u001b[0m \u001b[0minner\u001b[0m\u001b[1;33m(\u001b[0m\u001b[0max\u001b[0m\u001b[1;33m,\u001b[0m \u001b[1;33m*\u001b[0m\u001b[0margs\u001b[0m\u001b[1;33m,\u001b[0m \u001b[0mdata\u001b[0m\u001b[1;33m=\u001b[0m\u001b[1;32mNone\u001b[0m\u001b[1;33m,\u001b[0m \u001b[1;33m**\u001b[0m\u001b[0mkwargs\u001b[0m\u001b[1;33m)\u001b[0m\u001b[1;33m:\u001b[0m\u001b[1;33m\u001b[0m\u001b[1;33m\u001b[0m\u001b[0m\n\u001b[0;32m   1600\u001b[0m         \u001b[1;32mif\u001b[0m \u001b[0mdata\u001b[0m \u001b[1;32mis\u001b[0m \u001b[1;32mNone\u001b[0m\u001b[1;33m:\u001b[0m\u001b[1;33m\u001b[0m\u001b[1;33m\u001b[0m\u001b[0m\n\u001b[1;32m-> 1601\u001b[1;33m             \u001b[1;32mreturn\u001b[0m \u001b[0mfunc\u001b[0m\u001b[1;33m(\u001b[0m\u001b[0max\u001b[0m\u001b[1;33m,\u001b[0m \u001b[1;33m*\u001b[0m\u001b[0mmap\u001b[0m\u001b[1;33m(\u001b[0m\u001b[0msanitize_sequence\u001b[0m\u001b[1;33m,\u001b[0m \u001b[0margs\u001b[0m\u001b[1;33m)\u001b[0m\u001b[1;33m,\u001b[0m \u001b[1;33m**\u001b[0m\u001b[0mkwargs\u001b[0m\u001b[1;33m)\u001b[0m\u001b[1;33m\u001b[0m\u001b[1;33m\u001b[0m\u001b[0m\n\u001b[0m\u001b[0;32m   1602\u001b[0m \u001b[1;33m\u001b[0m\u001b[0m\n\u001b[0;32m   1603\u001b[0m         \u001b[0mbound\u001b[0m \u001b[1;33m=\u001b[0m \u001b[0mnew_sig\u001b[0m\u001b[1;33m.\u001b[0m\u001b[0mbind\u001b[0m\u001b[1;33m(\u001b[0m\u001b[0max\u001b[0m\u001b[1;33m,\u001b[0m \u001b[1;33m*\u001b[0m\u001b[0margs\u001b[0m\u001b[1;33m,\u001b[0m \u001b[1;33m**\u001b[0m\u001b[0mkwargs\u001b[0m\u001b[1;33m)\u001b[0m\u001b[1;33m\u001b[0m\u001b[1;33m\u001b[0m\u001b[0m\n",
      "\u001b[1;32m~\\Anaconda3\\lib\\site-packages\\matplotlib\\axes\\_axes.py\u001b[0m in \u001b[0;36mscatter\u001b[1;34m(self, x, y, s, c, marker, cmap, norm, vmin, vmax, alpha, linewidths, verts, edgecolors, plotnonfinite, **kwargs)\u001b[0m\n\u001b[0;32m   4442\u001b[0m         \u001b[0my\u001b[0m \u001b[1;33m=\u001b[0m \u001b[0mnp\u001b[0m\u001b[1;33m.\u001b[0m\u001b[0mma\u001b[0m\u001b[1;33m.\u001b[0m\u001b[0mravel\u001b[0m\u001b[1;33m(\u001b[0m\u001b[0my\u001b[0m\u001b[1;33m)\u001b[0m\u001b[1;33m\u001b[0m\u001b[1;33m\u001b[0m\u001b[0m\n\u001b[0;32m   4443\u001b[0m         \u001b[1;32mif\u001b[0m \u001b[0mx\u001b[0m\u001b[1;33m.\u001b[0m\u001b[0msize\u001b[0m \u001b[1;33m!=\u001b[0m \u001b[0my\u001b[0m\u001b[1;33m.\u001b[0m\u001b[0msize\u001b[0m\u001b[1;33m:\u001b[0m\u001b[1;33m\u001b[0m\u001b[1;33m\u001b[0m\u001b[0m\n\u001b[1;32m-> 4444\u001b[1;33m             \u001b[1;32mraise\u001b[0m \u001b[0mValueError\u001b[0m\u001b[1;33m(\u001b[0m\u001b[1;34m\"x and y must be the same size\"\u001b[0m\u001b[1;33m)\u001b[0m\u001b[1;33m\u001b[0m\u001b[1;33m\u001b[0m\u001b[0m\n\u001b[0m\u001b[0;32m   4445\u001b[0m \u001b[1;33m\u001b[0m\u001b[0m\n\u001b[0;32m   4446\u001b[0m         \u001b[1;32mif\u001b[0m \u001b[0ms\u001b[0m \u001b[1;32mis\u001b[0m \u001b[1;32mNone\u001b[0m\u001b[1;33m:\u001b[0m\u001b[1;33m\u001b[0m\u001b[1;33m\u001b[0m\u001b[0m\n",
      "\u001b[1;31mValueError\u001b[0m: x and y must be the same size"
     ]
    }
   ],
   "source": [
    "#build temp (f) vs latitude scatterplot\n",
    "plt.scatter(temp,coord_df[\"Latitude\"], marker = \"o\")\n",
    "plt.title(\"Temperature (F) vs. Latitude\")\n",
    "plt.xlabel(\"Temperature (F)\")\n",
    "plt.ylabel(\"Latitude\")\n",
    "plt.grid(True)"
   ]
  },
  {
   "cell_type": "code",
   "execution_count": 0,
   "metadata": {},
   "outputs": [],
   "source": [
    "#In the comparison of Temperature vs Latitude, the code is looking at where the city sits by Latitude on the globe and then looking at it's current temperature. The scatterplot looks at the correlation between distance from the equator to the current temperature."
   ]
  },
  {
   "cell_type": "code",
   "execution_count": 0,
   "metadata": {},
   "outputs": [],
   "source": [
    "#* Humidity (%) vs. Latitude\n",
    "plt.scatter(humid,coord_df[\"Latitude\"], marker = \"o\")\n",
    "plt.title(\"Humidity (%) vs. Latitude\")\n",
    "plt.xlabel(\"Humidity (%)\")\n",
    "plt.ylabel(\"Latitude\")\n",
    "plt.grid(True)\n"
   ]
  },
  {
   "cell_type": "code",
   "execution_count": 0,
   "metadata": {},
   "outputs": [],
   "source": [
    "#In the comparison of Humidty % vs Latitude, the code is looking at where the city sits by Latitude on the globe and then looking at it's current humidity %. The scatterplot is showing how distance from the equator might affect the level of humidity in a certain city."
   ]
  },
  {
   "cell_type": "code",
   "execution_count": 0,
   "metadata": {},
   "outputs": [],
   "source": [
    "#* Cloudiness (%) vs. Latitude\n",
    "plt.scatter(clouds,coord_df[\"Latitude\"], marker = \"o\")\n",
    "plt.title(\"Cloudiness (%) vs. Latitude\")\n",
    "plt.xlabel(\"Cloudiness (%)\")\n",
    "plt.ylabel(\"Latitude\")\n",
    "plt.grid(True)"
   ]
  },
  {
   "cell_type": "code",
   "execution_count": 0,
   "metadata": {},
   "outputs": [],
   "source": [
    "#In the comparison of Cloudiness % vs Latitude, the code is looking at where the city sits by Latitude on the globe and then pulling it's current Cloud coverage %. The scatterplot is showing how distance from the equator might affect the cloudiness of a certain city."
   ]
  },
  {
   "cell_type": "code",
   "execution_count": 0,
   "metadata": {},
   "outputs": [],
   "source": [
    "#* Wind Speed (mph) vs. Latitude\n",
    "plt.scatter(windspeed,coord_df[\"Latitude\"], marker = \"o\")\n",
    "plt.title(\"Windspeed (mph) vs. Latitude\")\n",
    "plt.xlabel(\"Windspeed (mph)\")\n",
    "plt.ylabel(\"Latitude\")\n",
    "plt.grid(True)"
   ]
  },
  {
   "cell_type": "code",
   "execution_count": 0,
   "metadata": {},
   "outputs": [],
   "source": [
    "#In the comparison of Windspeed (mph) vs Latitude, the code is looking at where the city sits by Latitude on the globe and then pulling it's current wind speed. The scatterplot is showing how distance from the equator might affect windiness of a certain city."
   ]
  },
  {
   "cell_type": "markdown",
   "execution_count": null,
   "metadata": {},
   "outputs": [],
   "source": [
    "2nd Objective - Linear Regression"
   ]
  },
  {
   "cell_type": "code",
   "execution_count": 0,
   "metadata": {},
   "outputs": [],
   "source": [
    "#Your next objective is to run linear regression on each relationship, only this time separating them into Northern Hemisphere (greater than or equal to 0 degrees latitude) and Southern Hemisphere (less than 0 degrees latitude):\n",
    "\n",
    "#* Northern Hemisphere - Temperature (F) vs. Latitude\n",
    "#* Southern Hemisphere - Temperature (F) vs. Latitude\n",
    "#* Northern Hemisphere - Humidity (%) vs. Latitude\n",
    "#* Southern Hemisphere - Humidity (%) vs. Latitude\n",
    "#* Northern Hemisphere - Cloudiness (%) vs. Latitude\n",
    "#* Southern Hemisphere - Cloudiness (%) vs. Latitude\n",
    "#* Northern Hemisphere - Wind Speed (mph) vs. Latitude\n",
    "#* Southern Hemisphere - Wind Speed (mph) vs. Latitude\n",
    "\n",
    "#After each pair of plots explain what the linear regression is modelling such as any relationships you notice and any other analysis you may have."
   ]
  },
  {
   "cell_type": "code",
   "execution_count": 0,
   "metadata": {},
   "outputs": [],
   "source": [
    "coordinates_df = pd.concat([coord_df, cities_df], axis = 1)\n",
    "coordinates_df.head()"
   ]
  },
  {
   "cell_type": "code",
   "execution_count": 0,
   "metadata": {},
   "outputs": [],
   "source": [
    "#determine northern and southern hemisphere cities\n",
    "n_cities = []\n",
    "s_cities = []\n",
    "\n",
    "for city in cities_df[\"Latitude\"]:\n",
    "    north = if city > 0 then\n",
    "        n_cities.append(city)"
   ]
  },
  {
   "cell_type": "code",
   "execution_count": 0,
   "metadata": {},
   "outputs": [],
   "source": [
    "#Linear regression on Northern Hemisphere - Temperature (F) vs. Latitude\n",
    "#"
   ]
  },
  {
   "cell_type": "code",
   "execution_count": 0,
   "metadata": {},
   "outputs": [],
   "source": [
    "#Your final notebook must:\n",
    "\n",
    "#* Randomly select **at least** 500 unique (non-repeat) cities based on latitude and longitude.\n",
    "#* Perform a weather check on each of the cities using a series of successive API calls.\n",
    "#* Include a print log of each city as it's being processed with the city number and city name.\n",
    "#* Save a CSV of all retrieved data and a PNG image for each scatter plot.\n"
   ]
  }
 ]
}