{
 "cells": [
  {
   "cell_type": "code",
   "execution_count": 2,
   "metadata": {},
   "outputs": [],
   "source": [
    "#In this example, you'll be creating a Python script to visualize the weather of 500+ cities across the world of varying distance from the equator. To accomplish this, you'll be utilizing a [simple Python library](https://pypi.python.org/pypi/citipy), the [OpenWeatherMap API](https://openweathermap.org/api), and a little common sense to create a representative model of weather across world cities."
   ]
  },
  {
   "cell_type": "markdown",
   "metadata": {},
   "source": [
    "1st Objective - Scatter Plots"
   ]
  },
  {
   "cell_type": "code",
   "execution_count": 3,
   "metadata": {},
   "outputs": [],
   "source": [
    "#Your first objective is to build a series of scatter plots to showcase the following relationships:\n",
    "\n",
    "#* Temperature (F) vs. Latitude\n",
    "#* Humidity (%) vs. Latitude\n",
    "#* Cloudiness (%) vs. Latitude\n",
    "#* Wind Speed (mph) vs. Latitude\n",
    "\n",
    "#After each plot add a sentence or two explaining what the code is and analyzing."
   ]
  },
  {
   "cell_type": "code",
   "execution_count": 4,
   "metadata": {},
   "outputs": [],
   "source": [
    "#Import dependencies\n",
    "from citipy import citipy\n",
    "from pprint import pprint\n",
    "import pandas as pd\n",
    "import matplotlib as plt\n",
    "import numpy as np \n"
   ]
  },
  {
   "cell_type": "code",
   "execution_count": 6,
   "metadata": {},
   "outputs": [
    {
     "name": "stdout",
     "output_type": "stream",
     "text": [
      "<module 'citipy.citipy' from 'C:\\\\Users\\\\kampr\\\\Anaconda3\\\\lib\\\\site-packages\\\\citipy\\\\citipy.py'>\n"
     ]
    }
   ],
   "source": [
    "#set-up URLs\n",
    "pprint(citipy)"
   ]
  },
  {
   "cell_type": "markdown",
   "metadata": {},
   "source": [
    "2nd Objective - Linear Regression"
   ]
  },
  {
   "cell_type": "code",
   "execution_count": 3,
   "metadata": {},
   "outputs": [],
   "source": [
    "#Your next objective is to run linear regression on each relationship, only this time separating them into Northern Hemisphere (greater than or equal to 0 degrees latitude) and Southern Hemisphere (less than 0 degrees latitude):\n",
    "\n",
    "#* Northern Hemisphere - Temperature (F) vs. Latitude\n",
    "#* Southern Hemisphere - Temperature (F) vs. Latitude\n",
    "#* Northern Hemisphere - Humidity (%) vs. Latitude\n",
    "#* Southern Hemisphere - Humidity (%) vs. Latitude\n",
    "#* Northern Hemisphere - Cloudiness (%) vs. Latitude\n",
    "#* Southern Hemisphere - Cloudiness (%) vs. Latitude\n",
    "#* Northern Hemisphere - Wind Speed (mph) vs. Latitude\n",
    "#* Southern Hemisphere - Wind Speed (mph) vs. Latitude\n",
    "\n",
    "#After each pair of plots explain what the linear regression is modelling such as any relationships you notice and any other analysis you may have."
   ]
  },
  {
   "cell_type": "code",
   "execution_count": null,
   "metadata": {},
   "outputs": [],
   "source": [
    "#Your final notebook must:\n",
    "\n",
    "#* Randomly select **at least** 500 unique (non-repeat) cities based on latitude and longitude.\n",
    "#* Perform a weather check on each of the cities using a series of successive API calls.\n",
    "#* Include a print log of each city as it's being processed with the city number and city name.\n",
    "#* Save a CSV of all retrieved data and a PNG image for each scatter plot.\n"
   ]
  }
 ],
 "metadata": {
  "file_extension": ".py",
  "kernelspec": {
   "display_name": "Python 3",
   "language": "python",
   "name": "python3"
  },
  "mimetype": "text/x-python",
  "name": "python",
  "npconvert_exporter": "python",
  "pygments_lexer": "ipython3",
  "version": 3
 },
 "nbformat": 4,
 "nbformat_minor": 2
}
